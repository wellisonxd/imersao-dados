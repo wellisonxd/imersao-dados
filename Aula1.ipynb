{
  "nbformat": 4,
  "nbformat_minor": 0,
  "metadata": {
    "colab": {
      "name": "Aula1.ipynb",
      "provenance": [],
      "authorship_tag": "ABX9TyMlLntoK4a6kQe9SI2HQoA6",
      "include_colab_link": true
    },
    "kernelspec": {
      "name": "python3",
      "display_name": "Python 3"
    }
  },
  "cells": [
    {
      "cell_type": "markdown",
      "metadata": {
        "id": "view-in-github",
        "colab_type": "text"
      },
      "source": [
        "<a href=\"https://colab.research.google.com/github/wellisonxd/imersao-dados/blob/main/Aula1.ipynb\" target=\"_parent\"><img src=\"https://colab.research.google.com/assets/colab-badge.svg\" alt=\"Open In Colab\"/></a>"
      ]
    },
    {
      "cell_type": "code",
      "metadata": {
        "id": "vucHSG18BlpF"
      },
      "source": [
        "import pandas as pd\n",
        "\n",
        "fonte = \"https://github.com/alura-cursos/imersao-dados-2-2020/blob/master/MICRODADOS_ENEM_2019_SAMPLE_43278.csv?raw=true\"\n",
        "\n",
        "dados = pd.read_csv(fonte)\n",
        "dados.head()"
      ],
      "execution_count": null,
      "outputs": []
    },
    {
      "cell_type": "code",
      "metadata": {
        "id": "04T2PpaNB4us"
      },
      "source": [
        "dados.shape"
      ],
      "execution_count": null,
      "outputs": []
    },
    {
      "cell_type": "code",
      "metadata": {
        "id": "b63hCcnIEUMe",
        "outputId": "32efa82d-0d4d-4cea-8583-7b9daaa060b1",
        "colab": {
          "base_uri": "https://localhost:8080/",
          "height": 221
        }
      },
      "source": [
        "dados[\"SG_UF_RESIDENCIA\"]"
      ],
      "execution_count": null,
      "outputs": [
        {
          "output_type": "execute_result",
          "data": {
            "text/plain": [
              "0         PA\n",
              "1         PA\n",
              "2         PA\n",
              "3         PA\n",
              "4         PA\n",
              "          ..\n",
              "127375    MG\n",
              "127376    BA\n",
              "127377    BA\n",
              "127378    BA\n",
              "127379    MG\n",
              "Name: SG_UF_RESIDENCIA, Length: 127380, dtype: object"
            ]
          },
          "metadata": {
            "tags": []
          },
          "execution_count": 18
        }
      ]
    },
    {
      "cell_type": "code",
      "metadata": {
        "id": "ykxns3o0FEOx",
        "outputId": "5249c85b-1e33-4b20-cf95-e611084fbee6",
        "colab": {
          "base_uri": "https://localhost:8080/",
          "height": 702
        }
      },
      "source": [
        "dados.columns.values"
      ],
      "execution_count": null,
      "outputs": [
        {
          "output_type": "execute_result",
          "data": {
            "text/plain": [
              "array(['NU_INSCRICAO', 'NU_ANO', 'CO_MUNICIPIO_RESIDENCIA',\n",
              "       'NO_MUNICIPIO_RESIDENCIA', 'CO_UF_RESIDENCIA', 'SG_UF_RESIDENCIA',\n",
              "       'NU_IDADE', 'TP_SEXO', 'TP_ESTADO_CIVIL', 'TP_COR_RACA',\n",
              "       'TP_NACIONALIDADE', 'CO_MUNICIPIO_NASCIMENTO',\n",
              "       'NO_MUNICIPIO_NASCIMENTO', 'CO_UF_NASCIMENTO', 'SG_UF_NASCIMENTO',\n",
              "       'TP_ST_CONCLUSAO', 'TP_ANO_CONCLUIU', 'TP_ESCOLA', 'TP_ENSINO',\n",
              "       'IN_TREINEIRO', 'CO_ESCOLA', 'CO_MUNICIPIO_ESC',\n",
              "       'NO_MUNICIPIO_ESC', 'CO_UF_ESC', 'SG_UF_ESC',\n",
              "       'TP_DEPENDENCIA_ADM_ESC', 'TP_LOCALIZACAO_ESC', 'TP_SIT_FUNC_ESC',\n",
              "       'IN_BAIXA_VISAO', 'IN_CEGUEIRA', 'IN_SURDEZ',\n",
              "       'IN_DEFICIENCIA_AUDITIVA', 'IN_SURDO_CEGUEIRA',\n",
              "       'IN_DEFICIENCIA_FISICA', 'IN_DEFICIENCIA_MENTAL',\n",
              "       'IN_DEFICIT_ATENCAO', 'IN_DISLEXIA', 'IN_DISCALCULIA',\n",
              "       'IN_AUTISMO', 'IN_VISAO_MONOCULAR', 'IN_OUTRA_DEF', 'IN_GESTANTE',\n",
              "       'IN_LACTANTE', 'IN_IDOSO', 'IN_ESTUDA_CLASSE_HOSPITALAR',\n",
              "       'IN_SEM_RECURSO', 'IN_BRAILLE', 'IN_AMPLIADA_24', 'IN_AMPLIADA_18',\n",
              "       'IN_LEDOR', 'IN_ACESSO', 'IN_TRANSCRICAO', 'IN_LIBRAS',\n",
              "       'IN_TEMPO_ADICIONAL', 'IN_LEITURA_LABIAL', 'IN_MESA_CADEIRA_RODAS',\n",
              "       'IN_MESA_CADEIRA_SEPARADA', 'IN_APOIO_PERNA', 'IN_GUIA_INTERPRETE',\n",
              "       'IN_COMPUTADOR', 'IN_CADEIRA_ESPECIAL', 'IN_CADEIRA_CANHOTO',\n",
              "       'IN_CADEIRA_ACOLCHOADA', 'IN_PROVA_DEITADO', 'IN_MOBILIARIO_OBESO',\n",
              "       'IN_LAMINA_OVERLAY', 'IN_PROTETOR_AURICULAR', 'IN_MEDIDOR_GLICOSE',\n",
              "       'IN_MAQUINA_BRAILE', 'IN_SOROBAN', 'IN_MARCA_PASSO', 'IN_SONDA',\n",
              "       'IN_MEDICAMENTOS', 'IN_SALA_INDIVIDUAL', 'IN_SALA_ESPECIAL',\n",
              "       'IN_SALA_ACOMPANHANTE', 'IN_MOBILIARIO_ESPECIFICO',\n",
              "       'IN_MATERIAL_ESPECIFICO', 'IN_NOME_SOCIAL', 'CO_MUNICIPIO_PROVA',\n",
              "       'NO_MUNICIPIO_PROVA', 'CO_UF_PROVA', 'SG_UF_PROVA',\n",
              "       'TP_PRESENCA_CN', 'TP_PRESENCA_CH', 'TP_PRESENCA_LC',\n",
              "       'TP_PRESENCA_MT', 'CO_PROVA_CN', 'CO_PROVA_CH', 'CO_PROVA_LC',\n",
              "       'CO_PROVA_MT', 'NU_NOTA_CN', 'NU_NOTA_CH', 'NU_NOTA_LC',\n",
              "       'NU_NOTA_MT', 'TX_RESPOSTAS_CN', 'TX_RESPOSTAS_CH',\n",
              "       'TX_RESPOSTAS_LC', 'TX_RESPOSTAS_MT', 'TP_LINGUA',\n",
              "       'TX_GABARITO_CN', 'TX_GABARITO_CH', 'TX_GABARITO_LC',\n",
              "       'TX_GABARITO_MT', 'TP_STATUS_REDACAO', 'NU_NOTA_COMP1',\n",
              "       'NU_NOTA_COMP2', 'NU_NOTA_COMP3', 'NU_NOTA_COMP4', 'NU_NOTA_COMP5',\n",
              "       'NU_NOTA_REDACAO', 'Q001', 'Q002', 'Q003', 'Q004', 'Q005', 'Q006',\n",
              "       'Q007', 'Q008', 'Q009', 'Q010', 'Q011', 'Q012', 'Q013', 'Q014',\n",
              "       'Q015', 'Q016', 'Q017', 'Q018', 'Q019', 'Q020', 'Q021', 'Q022',\n",
              "       'Q023', 'Q024', 'Q025'], dtype=object)"
            ]
          },
          "metadata": {
            "tags": []
          },
          "execution_count": 6
        }
      ]
    },
    {
      "cell_type": "code",
      "metadata": {
        "id": "fr-tNRKzJ8nj",
        "outputId": "afd7b477-3577-408e-8c01-715c0e652114",
        "colab": {
          "base_uri": "https://localhost:8080/",
          "height": 228
        }
      },
      "source": [
        "dados[\"SG_UF_RESIDENCIA\"]"
      ],
      "execution_count": null,
      "outputs": [
        {
          "output_type": "execute_result",
          "data": {
            "text/plain": [
              "0         PA\n",
              "1         PA\n",
              "2         PA\n",
              "3         PA\n",
              "4         PA\n",
              "          ..\n",
              "127375    MG\n",
              "127376    BA\n",
              "127377    BA\n",
              "127378    BA\n",
              "127379    MG\n",
              "Name: SG_UF_RESIDENCIA, Length: 127380, dtype: object"
            ]
          },
          "metadata": {
            "tags": []
          },
          "execution_count": 7
        }
      ]
    },
    {
      "cell_type": "code",
      "metadata": {
        "id": "ZGhVlH6jKBr2",
        "outputId": "91b76363-3449-44bf-b904-17a64aac162d",
        "colab": {
          "base_uri": "https://localhost:8080/",
          "height": 70
        }
      },
      "source": [
        "dados[\"SG_UF_RESIDENCIA\"].unique()"
      ],
      "execution_count": null,
      "outputs": [
        {
          "output_type": "execute_result",
          "data": {
            "text/plain": [
              "array(['PA', 'RO', 'MT', 'AC', 'AM', 'RR', 'MA', 'PR', 'BA', 'PI', 'CE',\n",
              "       'PE', 'AP', 'TO', 'SC', 'GO', 'MG', 'SP', 'SE', 'RJ', 'PB', 'AL',\n",
              "       'RN', 'ES', 'DF', 'RS', 'MS'], dtype=object)"
            ]
          },
          "metadata": {
            "tags": []
          },
          "execution_count": 8
        }
      ]
    },
    {
      "cell_type": "code",
      "metadata": {
        "id": "tX4rsthxKMfn",
        "outputId": "22f0c32e-f3b2-420c-cfb2-7e971c990136",
        "colab": {
          "base_uri": "https://localhost:8080/",
          "height": 34
        }
      },
      "source": [
        "len(dados[\"SG_UF_RESIDENCIA\"].unique())"
      ],
      "execution_count": null,
      "outputs": [
        {
          "output_type": "execute_result",
          "data": {
            "text/plain": [
              "27"
            ]
          },
          "metadata": {
            "tags": []
          },
          "execution_count": 9
        }
      ]
    },
    {
      "cell_type": "code",
      "metadata": {
        "id": "FEgxx1MJKhwi",
        "outputId": "494d7386-ab47-4d8a-ea3e-937f50290ac8",
        "colab": {
          "base_uri": "https://localhost:8080/",
          "height": 509
        }
      },
      "source": [
        "dados[\"SG_UF_RESIDENCIA\"].value_counts()"
      ],
      "execution_count": null,
      "outputs": [
        {
          "output_type": "execute_result",
          "data": {
            "text/plain": [
              "SP    20264\n",
              "MG    13547\n",
              "BA    10040\n",
              "RJ     8467\n",
              "CE     7381\n",
              "PA     7170\n",
              "PE     6941\n",
              "MA     5543\n",
              "RS     5466\n",
              "PR     5259\n",
              "GO     4268\n",
              "PB     3690\n",
              "PI     3034\n",
              "RN     2959\n",
              "AM     2820\n",
              "SC     2673\n",
              "ES     2550\n",
              "DF     2408\n",
              "AL     2263\n",
              "MT     2230\n",
              "SE     1815\n",
              "MS     1655\n",
              "RO     1400\n",
              "TO     1178\n",
              "AP     1047\n",
              "AC      946\n",
              "RR      366\n",
              "Name: SG_UF_RESIDENCIA, dtype: int64"
            ]
          },
          "metadata": {
            "tags": []
          },
          "execution_count": 10
        }
      ]
    },
    {
      "cell_type": "code",
      "metadata": {
        "id": "QToNiet7LKYn",
        "outputId": "d608c794-c214-4b58-a38e-f63f36c3dea0",
        "colab": {
          "base_uri": "https://localhost:8080/",
          "height": 221
        }
      },
      "source": [
        "dados[\"NU_IDADE\"]"
      ],
      "execution_count": null,
      "outputs": [
        {
          "output_type": "execute_result",
          "data": {
            "text/plain": [
              "<bound method Series.to_dict of 0         17\n",
              "1         23\n",
              "2         35\n",
              "3         23\n",
              "4         16\n",
              "          ..\n",
              "127375    17\n",
              "127376    18\n",
              "127377    22\n",
              "127378    26\n",
              "127379    19\n",
              "Name: NU_IDADE, Length: 127380, dtype: int64>"
            ]
          },
          "metadata": {
            "tags": []
          },
          "execution_count": 39
        }
      ]
    },
    {
      "cell_type": "code",
      "metadata": {
        "id": "uEBvUsoxFMkR",
        "outputId": "37788d07-4437-4afd-db08-e696b59e278b",
        "colab": {
          "base_uri": "https://localhost:8080/",
          "height": 1000
        }
      },
      "source": [
        "dados_idade = dados['NU_IDADE'].value_counts().sort_index().to_dict()\n",
        "for idade in dados_idade:\n",
        "  print (idade,\"-\",round(100*dados_idade[idade]/dados.shape[0],4),\"%\")"
      ],
      "execution_count": null,
      "outputs": [
        {
          "output_type": "stream",
          "text": [
            "13 - 0.0031 %\n",
            "14 - 0.1107 %\n",
            "15 - 1.5772 %\n",
            "16 - 6.147 %\n",
            "17 - 16.6871 %\n",
            "18 - 16.8409 %\n",
            "19 - 11.3189 %\n",
            "20 - 8.1748 %\n",
            "21 - 5.705 %\n",
            "22 - 4.6507 %\n",
            "23 - 3.6646 %\n",
            "24 - 3.013 %\n",
            "25 - 2.4556 %\n",
            "26 - 2.133 %\n",
            "27 - 1.7381 %\n",
            "28 - 1.5442 %\n",
            "29 - 1.2718 %\n",
            "30 - 1.2514 %\n",
            "31 - 1.1462 %\n",
            "32 - 1.0261 %\n",
            "33 - 0.913 %\n",
            "34 - 0.8078 %\n",
            "35 - 0.7332 %\n",
            "36 - 0.7011 %\n",
            "37 - 0.6987 %\n",
            "38 - 0.6202 %\n",
            "39 - 0.5488 %\n",
            "40 - 0.504 %\n",
            "41 - 0.4302 %\n",
            "42 - 0.3823 %\n",
            "43 - 0.347 %\n",
            "44 - 0.3109 %\n",
            "45 - 0.2967 %\n",
            "46 - 0.2685 %\n",
            "47 - 0.2371 %\n",
            "48 - 0.2198 %\n",
            "49 - 0.2112 %\n",
            "50 - 0.1719 %\n",
            "51 - 0.146 %\n",
            "52 - 0.1594 %\n",
            "53 - 0.1295 %\n",
            "54 - 0.1146 %\n",
            "55 - 0.0911 %\n",
            "56 - 0.0856 %\n",
            "57 - 0.0785 %\n",
            "58 - 0.0502 %\n",
            "59 - 0.0471 %\n",
            "60 - 0.0377 %\n",
            "61 - 0.0369 %\n",
            "62 - 0.0306 %\n",
            "63 - 0.0353 %\n",
            "64 - 0.0251 %\n",
            "65 - 0.0102 %\n",
            "66 - 0.0102 %\n",
            "67 - 0.0118 %\n",
            "68 - 0.011 %\n",
            "69 - 0.0094 %\n",
            "70 - 0.0071 %\n",
            "71 - 0.0031 %\n",
            "72 - 0.0024 %\n",
            "73 - 0.0016 %\n",
            "75 - 0.0016 %\n",
            "76 - 0.0008 %\n",
            "77 - 0.0008 %\n",
            "82 - 0.0008 %\n"
          ],
          "name": "stdout"
        }
      ]
    },
    {
      "cell_type": "code",
      "metadata": {
        "id": "8LT11zctLVnV",
        "outputId": "99a9b69c-269d-45e9-d11a-85a1b62426b3",
        "colab": {
          "base_uri": "https://localhost:8080/",
          "height": 228
        }
      },
      "source": [
        "dados[\"NU_IDADE\"].value_counts().sort_index()"
      ],
      "execution_count": null,
      "outputs": [
        {
          "output_type": "execute_result",
          "data": {
            "text/plain": [
              "13        4\n",
              "14      141\n",
              "15     2009\n",
              "16     7830\n",
              "17    21256\n",
              "      ...  \n",
              "73        2\n",
              "75        2\n",
              "76        1\n",
              "77        1\n",
              "82        1\n",
              "Name: NU_IDADE, Length: 65, dtype: int64"
            ]
          },
          "metadata": {
            "tags": []
          },
          "execution_count": 14
        }
      ]
    },
    {
      "cell_type": "code",
      "metadata": {
        "id": "xpARBh3NMe4D",
        "outputId": "836dc306-f450-4e6a-a435-9699278726c3",
        "colab": {
          "base_uri": "https://localhost:8080/",
          "height": 285
        }
      },
      "source": [
        "dados[\"NU_IDADE\"].hist()"
      ],
      "execution_count": null,
      "outputs": [
        {
          "output_type": "execute_result",
          "data": {
            "text/plain": [
              "<matplotlib.axes._subplots.AxesSubplot at 0x7f84d4424550>"
            ]
          },
          "metadata": {
            "tags": []
          },
          "execution_count": 16
        },
        {
          "output_type": "display_data",
          "data": {
            "image/png": "[encoded data removed]",
            "text/plain": [
              "<Figure size 432x288 with 1 Axes>"
            ]
          },
          "metadata": {
            "tags": [],
            "needs_background": "light"
          }
        }
      ]
    },
    {
      "cell_type": "code",
      "metadata": {
        "id": "a0zquv23Ny6q",
        "outputId": "74398319-317d-4722-80e9-86e814df4434",
        "colab": {
          "base_uri": "https://localhost:8080/",
          "height": 391
        }
      },
      "source": [
        "dados[\"NU_IDADE\"].hist(bins = 70, figsize = (8,6), legend=True)"
      ],
      "execution_count": null,
      "outputs": [
        {
          "output_type": "execute_result",
          "data": {
            "text/plain": [
              "<matplotlib.axes._subplots.AxesSubplot at 0x7faa8389a9b0>"
            ]
          },
          "metadata": {
            "tags": []
          },
          "execution_count": 34
        },
        {
          "output_type": "display_data",
          "data": {
            "image/png": "[encoded data removed]",
            "text/plain": [
              "<Figure size 576x432 with 1 Axes>"
            ]
          },
          "metadata": {
            "tags": [],
            "needs_background": "light"
          }
        }
      ]
    },
    {
      "cell_type": "code",
      "metadata": {
        "id": "OOy0276YPBDU",
        "outputId": "3efd3b3a-28f1-4519-e5d4-a982f2e83e28",
        "colab": {
          "base_uri": "https://localhost:8080/",
          "height": 70
        }
      },
      "source": [
        "dados[\"IN_TREINEIRO\"].value_counts()"
      ],
      "execution_count": null,
      "outputs": [
        {
          "output_type": "execute_result",
          "data": {
            "text/plain": [
              "0    111979\n",
              "1     15401\n",
              "Name: IN_TREINEIRO, dtype: int64"
            ]
          },
          "metadata": {
            "tags": []
          },
          "execution_count": 26
        }
      ]
    },
    {
      "cell_type": "code",
      "metadata": {
        "id": "ez0_rmcfPYS_",
        "outputId": "249221ac-93e0-42ac-800c-308950a72ee7",
        "colab": {
          "base_uri": "https://localhost:8080/",
          "height": 685
        }
      },
      "source": [
        "dados.query(\"IN_TREINEIRO == 1\")[\"NU_IDADE\"].value_counts()"
      ],
      "execution_count": null,
      "outputs": [
        {
          "output_type": "execute_result",
          "data": {
            "text/plain": [
              "16    7142\n",
              "17    4901\n",
              "15    1927\n",
              "18     858\n",
              "19     228\n",
              "20      83\n",
              "14      64\n",
              "21      44\n",
              "22      30\n",
              "23      21\n",
              "24      13\n",
              "26      13\n",
              "29      10\n",
              "27       9\n",
              "25       8\n",
              "28       6\n",
              "38       4\n",
              "40       4\n",
              "31       4\n",
              "30       4\n",
              "42       4\n",
              "34       3\n",
              "36       2\n",
              "39       2\n",
              "32       2\n",
              "46       2\n",
              "44       2\n",
              "35       2\n",
              "45       1\n",
              "41       1\n",
              "33       1\n",
              "62       1\n",
              "48       1\n",
              "51       1\n",
              "37       1\n",
              "47       1\n",
              "55       1\n",
              "Name: NU_IDADE, dtype: int64"
            ]
          },
          "metadata": {
            "tags": []
          },
          "execution_count": 30
        }
      ]
    },
    {
      "cell_type": "code",
      "metadata": {
        "id": "eV7m7KsfS3fF",
        "outputId": "19e25aa7-6156-4f0f-ad43-50f1164f6391",
        "colab": {
          "base_uri": "https://localhost:8080/",
          "height": 282
        }
      },
      "source": [
        "dados[\"NU_NOTA_REDACAO\"].hist(bins = 50)"
      ],
      "execution_count": null,
      "outputs": [
        {
          "output_type": "execute_result",
          "data": {
            "text/plain": [
              "<matplotlib.axes._subplots.AxesSubplot at 0x7f84ca793b00>"
            ]
          },
          "metadata": {
            "tags": []
          },
          "execution_count": 36
        },
        {
          "output_type": "display_data",
          "data": {
            "image/png": "[encoded data removed]",
            "text/plain": [
              "<Figure size 432x288 with 1 Axes>"
            ]
          },
          "metadata": {
            "tags": [],
            "needs_background": "light"
          }
        }
      ]
    },
    {
      "cell_type": "code",
      "metadata": {
        "id": "mj5dNj6hS4bW",
        "outputId": "4ab74f51-a8e9-492a-edc8-0b3eed716daf",
        "colab": {
          "base_uri": "https://localhost:8080/",
          "height": 282
        }
      },
      "source": [
        "dados[\"NU_NOTA_LC\"].hist(bins = 20)"
      ],
      "execution_count": null,
      "outputs": [
        {
          "output_type": "execute_result",
          "data": {
            "text/plain": [
              "<matplotlib.axes._subplots.AxesSubplot at 0x7f84ca60bda0>"
            ]
          },
          "metadata": {
            "tags": []
          },
          "execution_count": 39
        },
        {
          "output_type": "display_data",
          "data": {
            "image/png": "[encoded data removed]",
            "text/plain": [
              "<Figure size 432x288 with 1 Axes>"
            ]
          },
          "metadata": {
            "tags": [],
            "needs_background": "light"
          }
        }
      ]
    },
    {
      "cell_type": "code",
      "metadata": {
        "id": "Ov5-yiCkUQsQ",
        "outputId": "9b8ef458-2c11-4056-defa-a551a37aaf68",
        "colab": {
          "base_uri": "https://localhost:8080/",
          "height": 34
        }
      },
      "source": [
        "dados[\"NU_NOTA_REDACAO\"].mean()"
      ],
      "execution_count": null,
      "outputs": [
        {
          "output_type": "execute_result",
          "data": {
            "text/plain": [
              "571.5700253970197"
            ]
          },
          "metadata": {
            "tags": []
          },
          "execution_count": 40
        }
      ]
    },
    {
      "cell_type": "code",
      "metadata": {
        "id": "bIcXT20fUQzv",
        "outputId": "3a210c03-0c4b-4cc8-90a3-a2b8ee0a1733",
        "colab": {
          "base_uri": "https://localhost:8080/",
          "height": 34
        }
      },
      "source": [
        "dados[\"NU_NOTA_REDACAO\"].std()"
      ],
      "execution_count": null,
      "outputs": [
        {
          "output_type": "execute_result",
          "data": {
            "text/plain": [
              "188.07645455749753"
            ]
          },
          "metadata": {
            "tags": []
          },
          "execution_count": 41
        }
      ]
    },
    {
      "cell_type": "code",
      "metadata": {
        "id": "_wMYMSjsVbmS",
        "outputId": "7682c881-ad75-496e-b97f-b0908ec290c5",
        "colab": {
          "base_uri": "https://localhost:8080/",
          "height": 290
        }
      },
      "source": [
        "provas = [\"NU_NOTA_CN\", \"NU_NOTA_CH\", \"NU_NOTA_LC\", \"NU_NOTA_MT\", \"NU_NOTA_REDACAO\"]\n",
        "\n",
        "dados[provas].describe()"
      ],
      "execution_count": null,
      "outputs": [
        {
          "output_type": "execute_result",
          "data": {
            "text/html": [
              "<div>\n",
              "<style scoped>\n",
              "    .dataframe tbody tr th:only-of-type {\n",
              "        vertical-align: middle;\n",
              "    }\n",
              "\n",
              "    .dataframe tbody tr th {\n",
              "        vertical-align: top;\n",
              "    }\n",
              "\n",
              "    .dataframe thead th {\n",
              "        text-align: right;\n",
              "    }\n",
              "</style>\n",
              "<table border=\"1\" class=\"dataframe\">\n",
              "  <thead>\n",
              "    <tr style=\"text-align: right;\">\n",
              "      <th></th>\n",
              "      <th>NU_NOTA_CN</th>\n",
              "      <th>NU_NOTA_CH</th>\n",
              "      <th>NU_NOTA_LC</th>\n",
              "      <th>NU_NOTA_MT</th>\n",
              "      <th>NU_NOTA_REDACAO</th>\n",
              "    </tr>\n",
              "  </thead>\n",
              "  <tbody>\n",
              "    <tr>\n",
              "      <th>count</th>\n",
              "      <td>92758.000000</td>\n",
              "      <td>98043.000000</td>\n",
              "      <td>98043.000000</td>\n",
              "      <td>92758.000000</td>\n",
              "      <td>98043.000000</td>\n",
              "    </tr>\n",
              "    <tr>\n",
              "      <th>mean</th>\n",
              "      <td>477.964015</td>\n",
              "      <td>507.365912</td>\n",
              "      <td>520.463928</td>\n",
              "      <td>523.555206</td>\n",
              "      <td>571.570025</td>\n",
              "    </tr>\n",
              "    <tr>\n",
              "      <th>std</th>\n",
              "      <td>76.296099</td>\n",
              "      <td>82.972839</td>\n",
              "      <td>64.556578</td>\n",
              "      <td>109.416939</td>\n",
              "      <td>188.076455</td>\n",
              "    </tr>\n",
              "    <tr>\n",
              "      <th>min</th>\n",
              "      <td>0.000000</td>\n",
              "      <td>0.000000</td>\n",
              "      <td>0.000000</td>\n",
              "      <td>0.000000</td>\n",
              "      <td>0.000000</td>\n",
              "    </tr>\n",
              "    <tr>\n",
              "      <th>25%</th>\n",
              "      <td>418.000000</td>\n",
              "      <td>447.900000</td>\n",
              "      <td>483.700000</td>\n",
              "      <td>435.300000</td>\n",
              "      <td>480.000000</td>\n",
              "    </tr>\n",
              "    <tr>\n",
              "      <th>50%</th>\n",
              "      <td>470.200000</td>\n",
              "      <td>510.900000</td>\n",
              "      <td>526.100000</td>\n",
              "      <td>501.600000</td>\n",
              "      <td>580.000000</td>\n",
              "    </tr>\n",
              "    <tr>\n",
              "      <th>75%</th>\n",
              "      <td>533.300000</td>\n",
              "      <td>567.100000</td>\n",
              "      <td>565.100000</td>\n",
              "      <td>598.200000</td>\n",
              "      <td>680.000000</td>\n",
              "    </tr>\n",
              "    <tr>\n",
              "      <th>max</th>\n",
              "      <td>797.300000</td>\n",
              "      <td>809.400000</td>\n",
              "      <td>801.700000</td>\n",
              "      <td>985.000000</td>\n",
              "      <td>1000.000000</td>\n",
              "    </tr>\n",
              "  </tbody>\n",
              "</table>\n",
              "</div>"
            ],
            "text/plain": [
              "         NU_NOTA_CN    NU_NOTA_CH    NU_NOTA_LC    NU_NOTA_MT  NU_NOTA_REDACAO\n",
              "count  92758.000000  98043.000000  98043.000000  92758.000000     98043.000000\n",
              "mean     477.964015    507.365912    520.463928    523.555206       571.570025\n",
              "std       76.296099     82.972839     64.556578    109.416939       188.076455\n",
              "min        0.000000      0.000000      0.000000      0.000000         0.000000\n",
              "25%      418.000000    447.900000    483.700000    435.300000       480.000000\n",
              "50%      470.200000    510.900000    526.100000    501.600000       580.000000\n",
              "75%      533.300000    567.100000    565.100000    598.200000       680.000000\n",
              "max      797.300000    809.400000    801.700000    985.000000      1000.000000"
            ]
          },
          "metadata": {
            "tags": []
          },
          "execution_count": 42
        }
      ]
    },
    {
      "cell_type": "code",
      "metadata": {
        "id": "HHL6YF2ZXr3_",
        "outputId": "14276ead-da84-4c6b-cf86-bfc77f203fdf",
        "colab": {
          "base_uri": "https://localhost:8080/",
          "height": 34
        }
      },
      "source": [
        "dados[\"NU_NOTA_LC\"].quantile(0.1)"
      ],
      "execution_count": null,
      "outputs": [
        {
          "output_type": "execute_result",
          "data": {
            "text/plain": [
              "434.5"
            ]
          },
          "metadata": {
            "tags": []
          },
          "execution_count": 45
        }
      ]
    },
    {
      "cell_type": "code",
      "metadata": {
        "id": "G-hCL-0xiiMK",
        "outputId": "00278c91-e186-4513-bd13-7f482d87adcf",
        "colab": {
          "base_uri": "https://localhost:8080/",
          "height": 393
        }
      },
      "source": [
        "dados[\"NU_NOTA_LC\"].plot.box(grid = True, figsize=(8,6))"
      ],
      "execution_count": null,
      "outputs": [
        {
          "output_type": "execute_result",
          "data": {
            "text/plain": [
              "<matplotlib.axes._subplots.AxesSubplot at 0x7f84cbce77f0>"
            ]
          },
          "metadata": {
            "tags": []
          },
          "execution_count": 49
        },
        {
          "output_type": "display_data",
          "data": {
            "image/png": "[encoded data removed]",
            "text/plain": [
              "<Figure size 576x432 with 1 Axes>"
            ]
          },
          "metadata": {
            "tags": [],
            "needs_background": "light"
          }
        }
      ]
    },
    {
      "cell_type": "code",
      "metadata": {
        "id": "GOTcFxuYklxO",
        "outputId": "65a7ef57-93cf-4798-ab86-24970686459c",
        "colab": {
          "base_uri": "https://localhost:8080/",
          "height": 393
        }
      },
      "source": [
        "dados[provas].boxplot(grid = True, figsize = (8,6))"
      ],
      "execution_count": null,
      "outputs": [
        {
          "output_type": "execute_result",
          "data": {
            "text/plain": [
              "<matplotlib.axes._subplots.AxesSubplot at 0x7f84ca400128>"
            ]
          },
          "metadata": {
            "tags": []
          },
          "execution_count": 50
        },
        {
          "output_type": "display_data",
          "data": {
            "image/png": "[encoded data removed]",
            "text/plain": [
              "<Figure size 576x432 with 1 Axes>"
            ]
          },
          "metadata": {
            "tags": [],
            "needs_background": "light"
          }
        }
      ]
    },
    {
      "cell_type": "markdown",
      "metadata": {
        "id": "kxN_qCQXMQn7"
      },
      "source": [
        "01 Desafio: proporção de inscritos por idade\n",
        "\n",
        "02 Desafio: descobrir de quais estados são os inscritos com 13 anos\n",
        "\n",
        "03 Desafio: colocar título no histograma do panda\n",
        "\n",
        "04 Desafio: plotar em histograma a idade dos treineiros e dos não treineiros\n",
        "\n",
        "05 desafio: comparar as distribuições (hist ou boxplot) das provas em inglês e espanhol\n",
        "\n",
        "06 desafio: explorar as documentações e visualizações"
      ]
    }
  ]
}